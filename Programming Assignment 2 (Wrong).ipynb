{
 "cells": [
  {
   "cell_type": "markdown",
   "metadata": {},
   "source": [
    "# Programming Project 1: Calculating Exponential Growth\n",
    "Molly Rovinski\n",
    "\n",
    "Programming Project 1\n",
    "\n",
    "Fall 2020"
   ]
  },
  {
   "cell_type": "markdown",
   "metadata": {},
   "source": [
    "**Problem A:** Write a program that projects population growth for a certain time period. Inputs should include the initial population, the growth rate, and the number of years to project. "
   ]
  },
  {
   "cell_type": "markdown",
   "metadata": {},
   "source": [
    "If I set the function as def calc_PG it gives me an output of something along the lines of 89,xxx,xxx. If I set the function as def calc_growth it gives me an output of the r value 36 times. If I set it as anything else, such as population or popgrowth, it tells me it is undefined. "
   ]
  },
  {
   "cell_type": "code",
   "execution_count": 158,
   "metadata": {
    "scrolled": true
   },
   "outputs": [
    {
     "ename": "NameError",
     "evalue": "name 'population' is not defined",
     "output_type": "error",
     "traceback": [
      "\u001b[0;31m---------------------------------------------------------------------------\u001b[0m",
      "\u001b[0;31mNameError\u001b[0m                                 Traceback (most recent call last)",
      "\u001b[0;32m<ipython-input-158-7f7b30db64e2>\u001b[0m in \u001b[0;36m<module>\u001b[0;34m\u001b[0m\n\u001b[1;32m      6\u001b[0m     \u001b[0;32mreturn\u001b[0m \u001b[0mpopulation\u001b[0m\u001b[0;34m\u001b[0m\u001b[0;34m\u001b[0m\u001b[0m\n\u001b[1;32m      7\u001b[0m \u001b[0;32mfor\u001b[0m \u001b[0mt\u001b[0m \u001b[0;32min\u001b[0m \u001b[0mrange\u001b[0m \u001b[0;34m(\u001b[0m\u001b[0;36m1\u001b[0m\u001b[0;34m,\u001b[0m\u001b[0;36m36\u001b[0m\u001b[0;34m)\u001b[0m\u001b[0;34m:\u001b[0m\u001b[0;34m\u001b[0m\u001b[0;34m\u001b[0m\u001b[0m\n\u001b[0;32m----> 8\u001b[0;31m     \u001b[0mprint\u001b[0m\u001b[0;34m(\u001b[0m\u001b[0mpopulation\u001b[0m\u001b[0;34m)\u001b[0m\u001b[0;34m\u001b[0m\u001b[0;34m\u001b[0m\u001b[0m\n\u001b[0m",
      "\u001b[0;31mNameError\u001b[0m: name 'population' is not defined"
     ]
    }
   ],
   "source": [
    "import math\n",
    "from math import e\n",
    "def calc_population(t=1,P=89000000,r=.12):\n",
    "    population = P * e**(r*t)\n",
    "    t = t+1\n",
    "    return population\n",
    "for t in range (1,36):\n",
    "    print(population)"
   ]
  },
  {
   "cell_type": "code",
   "execution_count": 159,
   "metadata": {},
   "outputs": [
    {
     "name": "stdout",
     "output_type": "stream",
     "text": [
      "0.12\n",
      "0.12\n",
      "0.12\n",
      "0.12\n",
      "0.12\n",
      "0.12\n",
      "0.12\n",
      "0.12\n",
      "0.12\n",
      "0.12\n",
      "0.12\n",
      "0.12\n",
      "0.12\n",
      "0.12\n",
      "0.12\n",
      "0.12\n",
      "0.12\n",
      "0.12\n",
      "0.12\n",
      "0.12\n",
      "0.12\n",
      "0.12\n",
      "0.12\n",
      "0.12\n",
      "0.12\n",
      "0.12\n",
      "0.12\n",
      "0.12\n",
      "0.12\n",
      "0.12\n",
      "0.12\n",
      "0.12\n",
      "0.12\n",
      "0.12\n",
      "0.12\n"
     ]
    }
   ],
   "source": [
    "import math\n",
    "from math import e\n",
    "def calc_growth(t=1,P=89000000,r=.12):\n",
    "    growth = P * e**(r*t)\n",
    "    t = t+1\n",
    "    return growth\n",
    "for t in range (1,36):\n",
    "    print(growth)"
   ]
  },
  {
   "cell_type": "code",
   "execution_count": 160,
   "metadata": {},
   "outputs": [
    {
     "name": "stdout",
     "output_type": "stream",
     "text": [
      "89106864.10563968\n",
      "89106864.10563968\n",
      "89106864.10563968\n",
      "89106864.10563968\n",
      "89106864.10563968\n",
      "89106864.10563968\n",
      "89106864.10563968\n",
      "89106864.10563968\n",
      "89106864.10563968\n",
      "89106864.10563968\n",
      "89106864.10563968\n",
      "89106864.10563968\n",
      "89106864.10563968\n",
      "89106864.10563968\n",
      "89106864.10563968\n",
      "89106864.10563968\n",
      "89106864.10563968\n",
      "89106864.10563968\n",
      "89106864.10563968\n",
      "89106864.10563968\n",
      "89106864.10563968\n",
      "89106864.10563968\n",
      "89106864.10563968\n",
      "89106864.10563968\n",
      "89106864.10563968\n",
      "89106864.10563968\n",
      "89106864.10563968\n",
      "89106864.10563968\n",
      "89106864.10563968\n",
      "89106864.10563968\n",
      "89106864.10563968\n",
      "89106864.10563968\n",
      "89106864.10563968\n",
      "89106864.10563968\n",
      "89106864.10563968\n"
     ]
    }
   ],
   "source": [
    "import math\n",
    "from math import e\n",
    "def calc_PG(t=1,P=89000000,r=.12):\n",
    "    PG = P * e**(r*t)\n",
    "    t = t+1\n",
    "    return PG\n",
    "for t in range (1,36):\n",
    "    print(PG)"
   ]
  },
  {
   "cell_type": "markdown",
   "metadata": {},
   "source": []
  }
 ],
 "metadata": {
  "kernelspec": {
   "display_name": "Python 3",
   "language": "python",
   "name": "python3"
  },
  "language_info": {
   "codemirror_mode": {
    "name": "ipython",
    "version": 3
   },
   "file_extension": ".py",
   "mimetype": "text/x-python",
   "name": "python",
   "nbconvert_exporter": "python",
   "pygments_lexer": "ipython3",
   "version": "3.8.3"
  }
 },
 "nbformat": 4,
 "nbformat_minor": 4
}
